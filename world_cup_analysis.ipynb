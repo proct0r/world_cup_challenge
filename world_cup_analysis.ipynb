{
 "cells": [
  {
   "cell_type": "markdown",
   "metadata": {},
   "source": [
    "# NAME: OGUNLEYE SUNDAY SOLOMON\n",
    "## DATA ANALYST\n",
    "# WORLD CUP ANALYSIS CHALLENGE"
   ]
  },
  {
   "cell_type": "code",
   "execution_count": 140,
   "metadata": {},
   "outputs": [],
   "source": [
    "import pandas as pd\n",
    "import numpy as np\n",
    "import matplotlib.pyplot as plt\n",
    "from datetime import date"
   ]
  },
  {
   "cell_type": "code",
   "execution_count": 141,
   "metadata": {},
   "outputs": [],
   "source": [
    "data= pd.read_excel('world_cup.xlsx')"
   ]
  },
  {
   "cell_type": "code",
   "execution_count": 143,
   "metadata": {},
   "outputs": [
    {
     "name": "stdout",
     "output_type": "stream",
     "text": [
      "<class 'pandas.core.frame.DataFrame'>\n",
      "Int64Index: 836 entries, 0 to 835\n",
      "Data columns (total 11 columns):\n",
      "Year           836 non-null int64\n",
      "Date           836 non-null datetime64[ns]\n",
      "Time           836 non-null object\n",
      "Round          836 non-null object\n",
      "Stadium        836 non-null object\n",
      "City           836 non-null object\n",
      "HomeTeam       836 non-null object\n",
      "HomeGoals      836 non-null int64\n",
      "AwayGoals      836 non-null int64\n",
      "AwayTeam       836 non-null object\n",
      "Observation    57 non-null object\n",
      "dtypes: datetime64[ns](1), int64(3), object(7)\n",
      "memory usage: 78.4+ KB\n"
     ]
    }
   ],
   "source": [
    "data = data.drop_duplicates()\n",
    "data.shape\n",
    "data.info()"
   ]
  },
  {
   "cell_type": "code",
   "execution_count": 144,
   "metadata": {},
   "outputs": [],
   "source": [
    "data['totalgoals'] = data['HomeGoals']+data['AwayGoals']"
   ]
  },
  {
   "cell_type": "code",
   "execution_count": 142,
   "metadata": {},
   "outputs": [
    {
     "data": {
      "text/plain": [
       "(852, 11)"
      ]
     },
     "execution_count": 142,
     "metadata": {},
     "output_type": "execute_result"
    }
   ],
   "source": [
    " data.shape"
   ]
  },
  {
   "cell_type": "code",
   "execution_count": 145,
   "metadata": {},
   "outputs": [],
   "source": [
    "#get a day of the week and month columns\n",
    "data['month'] = pd.to_datetime(data['Date']).dt.month_name()\n",
    "data['day'] = pd.to_datetime(data['Date']).dt.day_name()"
   ]
  },
  {
   "cell_type": "code",
   "execution_count": 146,
   "metadata": {},
   "outputs": [
    {
     "data": {
      "text/html": [
       "<div>\n",
       "<style scoped>\n",
       "    .dataframe tbody tr th:only-of-type {\n",
       "        vertical-align: middle;\n",
       "    }\n",
       "\n",
       "    .dataframe tbody tr th {\n",
       "        vertical-align: top;\n",
       "    }\n",
       "\n",
       "    .dataframe thead th {\n",
       "        text-align: right;\n",
       "    }\n",
       "</style>\n",
       "<table border=\"1\" class=\"dataframe\">\n",
       "  <thead>\n",
       "    <tr style=\"text-align: right;\">\n",
       "      <th></th>\n",
       "      <th>Year</th>\n",
       "      <th>Date</th>\n",
       "      <th>Time</th>\n",
       "      <th>Round</th>\n",
       "      <th>Stadium</th>\n",
       "      <th>City</th>\n",
       "      <th>HomeTeam</th>\n",
       "      <th>HomeGoals</th>\n",
       "      <th>AwayGoals</th>\n",
       "      <th>AwayTeam</th>\n",
       "      <th>Observation</th>\n",
       "      <th>totalgoals</th>\n",
       "      <th>month</th>\n",
       "      <th>day</th>\n",
       "    </tr>\n",
       "  </thead>\n",
       "  <tbody>\n",
       "    <tr>\n",
       "      <td>0</td>\n",
       "      <td>1930</td>\n",
       "      <td>1930-07-13</td>\n",
       "      <td>15:00:00</td>\n",
       "      <td>Group 1</td>\n",
       "      <td>Pocitos</td>\n",
       "      <td>Montevideo</td>\n",
       "      <td>France</td>\n",
       "      <td>4</td>\n",
       "      <td>1</td>\n",
       "      <td>Mexico</td>\n",
       "      <td>NaN</td>\n",
       "      <td>5</td>\n",
       "      <td>July</td>\n",
       "      <td>Sunday</td>\n",
       "    </tr>\n",
       "    <tr>\n",
       "      <td>1</td>\n",
       "      <td>1930</td>\n",
       "      <td>1930-07-13</td>\n",
       "      <td>15:00:00</td>\n",
       "      <td>Group 4</td>\n",
       "      <td>Parque Central</td>\n",
       "      <td>Montevideo</td>\n",
       "      <td>USA</td>\n",
       "      <td>3</td>\n",
       "      <td>0</td>\n",
       "      <td>Belgium</td>\n",
       "      <td>NaN</td>\n",
       "      <td>3</td>\n",
       "      <td>July</td>\n",
       "      <td>Sunday</td>\n",
       "    </tr>\n",
       "  </tbody>\n",
       "</table>\n",
       "</div>"
      ],
      "text/plain": [
       "   Year       Date      Time    Round         Stadium        City HomeTeam  \\\n",
       "0  1930 1930-07-13  15:00:00  Group 1         Pocitos  Montevideo   France   \n",
       "1  1930 1930-07-13  15:00:00  Group 4  Parque Central  Montevideo      USA   \n",
       "\n",
       "   HomeGoals  AwayGoals AwayTeam Observation  totalgoals month     day  \n",
       "0          4          1   Mexico         NaN           5  July  Sunday  \n",
       "1          3          0  Belgium         NaN           3  July  Sunday  "
      ]
     },
     "execution_count": 146,
     "metadata": {},
     "output_type": "execute_result"
    }
   ],
   "source": [
    "data.head(2)"
   ]
  },
  {
   "cell_type": "code",
   "execution_count": 147,
   "metadata": {},
   "outputs": [],
   "source": [
    "data = data[['Year', 'month', 'day', 'Time', 'Round', 'HomeTeam', 'HomeGoals', 'AwayTeam', 'AwayGoals', 'totalgoals']]"
   ]
  },
  {
   "cell_type": "code",
   "execution_count": 148,
   "metadata": {},
   "outputs": [
    {
     "data": {
      "text/html": [
       "<div>\n",
       "<style scoped>\n",
       "    .dataframe tbody tr th:only-of-type {\n",
       "        vertical-align: middle;\n",
       "    }\n",
       "\n",
       "    .dataframe tbody tr th {\n",
       "        vertical-align: top;\n",
       "    }\n",
       "\n",
       "    .dataframe thead th {\n",
       "        text-align: right;\n",
       "    }\n",
       "</style>\n",
       "<table border=\"1\" class=\"dataframe\">\n",
       "  <thead>\n",
       "    <tr style=\"text-align: right;\">\n",
       "      <th></th>\n",
       "      <th>Year</th>\n",
       "      <th>month</th>\n",
       "      <th>day</th>\n",
       "      <th>Time</th>\n",
       "      <th>Round</th>\n",
       "      <th>HomeTeam</th>\n",
       "      <th>HomeGoals</th>\n",
       "      <th>AwayTeam</th>\n",
       "      <th>AwayGoals</th>\n",
       "      <th>totalgoals</th>\n",
       "    </tr>\n",
       "  </thead>\n",
       "  <tbody>\n",
       "    <tr>\n",
       "      <td>0</td>\n",
       "      <td>1930</td>\n",
       "      <td>July</td>\n",
       "      <td>Sunday</td>\n",
       "      <td>15:00:00</td>\n",
       "      <td>Group 1</td>\n",
       "      <td>France</td>\n",
       "      <td>4</td>\n",
       "      <td>Mexico</td>\n",
       "      <td>1</td>\n",
       "      <td>5</td>\n",
       "    </tr>\n",
       "    <tr>\n",
       "      <td>1</td>\n",
       "      <td>1930</td>\n",
       "      <td>July</td>\n",
       "      <td>Sunday</td>\n",
       "      <td>15:00:00</td>\n",
       "      <td>Group 4</td>\n",
       "      <td>USA</td>\n",
       "      <td>3</td>\n",
       "      <td>Belgium</td>\n",
       "      <td>0</td>\n",
       "      <td>3</td>\n",
       "    </tr>\n",
       "    <tr>\n",
       "      <td>2</td>\n",
       "      <td>1930</td>\n",
       "      <td>July</td>\n",
       "      <td>Monday</td>\n",
       "      <td>12:45:00</td>\n",
       "      <td>Group 2</td>\n",
       "      <td>Yugoslavia</td>\n",
       "      <td>2</td>\n",
       "      <td>Brazil</td>\n",
       "      <td>1</td>\n",
       "      <td>3</td>\n",
       "    </tr>\n",
       "  </tbody>\n",
       "</table>\n",
       "</div>"
      ],
      "text/plain": [
       "   Year month     day      Time    Round    HomeTeam  HomeGoals AwayTeam  \\\n",
       "0  1930  July  Sunday  15:00:00  Group 1      France          4   Mexico   \n",
       "1  1930  July  Sunday  15:00:00  Group 4         USA          3  Belgium   \n",
       "2  1930  July  Monday  12:45:00  Group 2  Yugoslavia          2   Brazil   \n",
       "\n",
       "   AwayGoals  totalgoals  \n",
       "0          1           5  \n",
       "1          0           3  \n",
       "2          1           3  "
      ]
     },
     "execution_count": 148,
     "metadata": {},
     "output_type": "execute_result"
    }
   ],
   "source": [
    "data.head(3\n",
    "         )"
   ]
  },
  {
   "cell_type": "code",
   "execution_count": 149,
   "metadata": {},
   "outputs": [],
   "source": [
    "matches_per_year = data.Year.value_counts() #a series to hold our values\n",
    "all_games = pd.DataFrame(matches_per_year) #make series into a dataframe\n",
    "all_games.reset_index(inplace=True) #reset it's index inplace\n",
    "all_games.columns = ['Year', 'Matches'] #rename the columns as needed"
   ]
  },
  {
   "cell_type": "code",
   "execution_count": 150,
   "metadata": {},
   "outputs": [
    {
     "data": {
      "text/html": [
       "<div>\n",
       "<style scoped>\n",
       "    .dataframe tbody tr th:only-of-type {\n",
       "        vertical-align: middle;\n",
       "    }\n",
       "\n",
       "    .dataframe tbody tr th {\n",
       "        vertical-align: top;\n",
       "    }\n",
       "\n",
       "    .dataframe thead th {\n",
       "        text-align: right;\n",
       "    }\n",
       "</style>\n",
       "<table border=\"1\" class=\"dataframe\">\n",
       "  <thead>\n",
       "    <tr style=\"text-align: right;\">\n",
       "      <th></th>\n",
       "      <th>Year</th>\n",
       "      <th>Matches</th>\n",
       "    </tr>\n",
       "  </thead>\n",
       "  <tbody>\n",
       "    <tr>\n",
       "      <td>0</td>\n",
       "      <td>2014</td>\n",
       "      <td>64</td>\n",
       "    </tr>\n",
       "    <tr>\n",
       "      <td>1</td>\n",
       "      <td>2010</td>\n",
       "      <td>64</td>\n",
       "    </tr>\n",
       "    <tr>\n",
       "      <td>2</td>\n",
       "      <td>2006</td>\n",
       "      <td>64</td>\n",
       "    </tr>\n",
       "    <tr>\n",
       "      <td>3</td>\n",
       "      <td>2002</td>\n",
       "      <td>64</td>\n",
       "    </tr>\n",
       "    <tr>\n",
       "      <td>4</td>\n",
       "      <td>1998</td>\n",
       "      <td>64</td>\n",
       "    </tr>\n",
       "    <tr>\n",
       "      <td>5</td>\n",
       "      <td>1994</td>\n",
       "      <td>52</td>\n",
       "    </tr>\n",
       "    <tr>\n",
       "      <td>6</td>\n",
       "      <td>1990</td>\n",
       "      <td>52</td>\n",
       "    </tr>\n",
       "    <tr>\n",
       "      <td>7</td>\n",
       "      <td>1986</td>\n",
       "      <td>52</td>\n",
       "    </tr>\n",
       "    <tr>\n",
       "      <td>8</td>\n",
       "      <td>1982</td>\n",
       "      <td>52</td>\n",
       "    </tr>\n",
       "    <tr>\n",
       "      <td>9</td>\n",
       "      <td>1974</td>\n",
       "      <td>38</td>\n",
       "    </tr>\n",
       "    <tr>\n",
       "      <td>10</td>\n",
       "      <td>1978</td>\n",
       "      <td>38</td>\n",
       "    </tr>\n",
       "    <tr>\n",
       "      <td>11</td>\n",
       "      <td>1958</td>\n",
       "      <td>35</td>\n",
       "    </tr>\n",
       "    <tr>\n",
       "      <td>12</td>\n",
       "      <td>1970</td>\n",
       "      <td>32</td>\n",
       "    </tr>\n",
       "    <tr>\n",
       "      <td>13</td>\n",
       "      <td>1966</td>\n",
       "      <td>32</td>\n",
       "    </tr>\n",
       "    <tr>\n",
       "      <td>14</td>\n",
       "      <td>1962</td>\n",
       "      <td>32</td>\n",
       "    </tr>\n",
       "    <tr>\n",
       "      <td>15</td>\n",
       "      <td>1954</td>\n",
       "      <td>26</td>\n",
       "    </tr>\n",
       "    <tr>\n",
       "      <td>16</td>\n",
       "      <td>1950</td>\n",
       "      <td>22</td>\n",
       "    </tr>\n",
       "    <tr>\n",
       "      <td>17</td>\n",
       "      <td>1938</td>\n",
       "      <td>18</td>\n",
       "    </tr>\n",
       "    <tr>\n",
       "      <td>18</td>\n",
       "      <td>1930</td>\n",
       "      <td>18</td>\n",
       "    </tr>\n",
       "    <tr>\n",
       "      <td>19</td>\n",
       "      <td>1934</td>\n",
       "      <td>17</td>\n",
       "    </tr>\n",
       "  </tbody>\n",
       "</table>\n",
       "</div>"
      ],
      "text/plain": [
       "    Year  Matches\n",
       "0   2014       64\n",
       "1   2010       64\n",
       "2   2006       64\n",
       "3   2002       64\n",
       "4   1998       64\n",
       "5   1994       52\n",
       "6   1990       52\n",
       "7   1986       52\n",
       "8   1982       52\n",
       "9   1974       38\n",
       "10  1978       38\n",
       "11  1958       35\n",
       "12  1970       32\n",
       "13  1966       32\n",
       "14  1962       32\n",
       "15  1954       26\n",
       "16  1950       22\n",
       "17  1938       18\n",
       "18  1930       18\n",
       "19  1934       17"
      ]
     },
     "execution_count": 150,
     "metadata": {},
     "output_type": "execute_result"
    }
   ],
   "source": [
    "all_games"
   ]
  },
  {
   "cell_type": "code",
   "execution_count": 151,
   "metadata": {},
   "outputs": [
    {
     "data": {
      "text/plain": [
       "Text(0.5, 1.0, 'NUMBER OF MATCHES PLAYED FROM 1930')"
      ]
     },
     "execution_count": 151,
     "metadata": {},
     "output_type": "execute_result"
    },
    {
     "data": {
      "image/png": "[encoded data removed]",
      "text/plain": [
       "<Figure size 864x432 with 1 Axes>"
      ]
     },
     "metadata": {
      "needs_background": "light"
     },
     "output_type": "display_data"
    }
   ],
   "source": [
    "plt.figure(figsize=(12,6))\n",
    "plt.bar(x=all_games['Year'], height = all_games['Matches'])\n",
    "plt.xticks(rotation=90)\n",
    "plt.title('NUMBER OF MATCHES PLAYED FROM 1930')"
   ]
  },
  {
   "cell_type": "code",
   "execution_count": 152,
   "metadata": {},
   "outputs": [],
   "source": [
    "totalgoals_per_year = data.groupby(['Year']).totalgoals.sum()\n",
    "all_goals = pd.DataFrame(totalgoals_per_year)\n",
    "all_goals.reset_index(inplace=True)\n",
    "all_goals.columns = ['Years', 'TotalGoals']"
   ]
  },
  {
   "cell_type": "code",
   "execution_count": 153,
   "metadata": {},
   "outputs": [
    {
     "data": {
      "text/html": [
       "<div>\n",
       "<style scoped>\n",
       "    .dataframe tbody tr th:only-of-type {\n",
       "        vertical-align: middle;\n",
       "    }\n",
       "\n",
       "    .dataframe tbody tr th {\n",
       "        vertical-align: top;\n",
       "    }\n",
       "\n",
       "    .dataframe thead th {\n",
       "        text-align: right;\n",
       "    }\n",
       "</style>\n",
       "<table border=\"1\" class=\"dataframe\">\n",
       "  <thead>\n",
       "    <tr style=\"text-align: right;\">\n",
       "      <th></th>\n",
       "      <th>Years</th>\n",
       "      <th>TotalGoals</th>\n",
       "    </tr>\n",
       "  </thead>\n",
       "  <tbody>\n",
       "    <tr>\n",
       "      <td>0</td>\n",
       "      <td>1930</td>\n",
       "      <td>70</td>\n",
       "    </tr>\n",
       "    <tr>\n",
       "      <td>1</td>\n",
       "      <td>1934</td>\n",
       "      <td>70</td>\n",
       "    </tr>\n",
       "    <tr>\n",
       "      <td>2</td>\n",
       "      <td>1938</td>\n",
       "      <td>84</td>\n",
       "    </tr>\n",
       "    <tr>\n",
       "      <td>3</td>\n",
       "      <td>1950</td>\n",
       "      <td>88</td>\n",
       "    </tr>\n",
       "    <tr>\n",
       "      <td>4</td>\n",
       "      <td>1954</td>\n",
       "      <td>140</td>\n",
       "    </tr>\n",
       "    <tr>\n",
       "      <td>5</td>\n",
       "      <td>1958</td>\n",
       "      <td>126</td>\n",
       "    </tr>\n",
       "    <tr>\n",
       "      <td>6</td>\n",
       "      <td>1962</td>\n",
       "      <td>89</td>\n",
       "    </tr>\n",
       "    <tr>\n",
       "      <td>7</td>\n",
       "      <td>1966</td>\n",
       "      <td>89</td>\n",
       "    </tr>\n",
       "    <tr>\n",
       "      <td>8</td>\n",
       "      <td>1970</td>\n",
       "      <td>95</td>\n",
       "    </tr>\n",
       "    <tr>\n",
       "      <td>9</td>\n",
       "      <td>1974</td>\n",
       "      <td>97</td>\n",
       "    </tr>\n",
       "    <tr>\n",
       "      <td>10</td>\n",
       "      <td>1978</td>\n",
       "      <td>102</td>\n",
       "    </tr>\n",
       "    <tr>\n",
       "      <td>11</td>\n",
       "      <td>1982</td>\n",
       "      <td>146</td>\n",
       "    </tr>\n",
       "    <tr>\n",
       "      <td>12</td>\n",
       "      <td>1986</td>\n",
       "      <td>132</td>\n",
       "    </tr>\n",
       "    <tr>\n",
       "      <td>13</td>\n",
       "      <td>1990</td>\n",
       "      <td>115</td>\n",
       "    </tr>\n",
       "    <tr>\n",
       "      <td>14</td>\n",
       "      <td>1994</td>\n",
       "      <td>141</td>\n",
       "    </tr>\n",
       "    <tr>\n",
       "      <td>15</td>\n",
       "      <td>1998</td>\n",
       "      <td>171</td>\n",
       "    </tr>\n",
       "    <tr>\n",
       "      <td>16</td>\n",
       "      <td>2002</td>\n",
       "      <td>161</td>\n",
       "    </tr>\n",
       "    <tr>\n",
       "      <td>17</td>\n",
       "      <td>2006</td>\n",
       "      <td>147</td>\n",
       "    </tr>\n",
       "    <tr>\n",
       "      <td>18</td>\n",
       "      <td>2010</td>\n",
       "      <td>145</td>\n",
       "    </tr>\n",
       "    <tr>\n",
       "      <td>19</td>\n",
       "      <td>2014</td>\n",
       "      <td>171</td>\n",
       "    </tr>\n",
       "  </tbody>\n",
       "</table>\n",
       "</div>"
      ],
      "text/plain": [
       "    Years  TotalGoals\n",
       "0    1930          70\n",
       "1    1934          70\n",
       "2    1938          84\n",
       "3    1950          88\n",
       "4    1954         140\n",
       "5    1958         126\n",
       "6    1962          89\n",
       "7    1966          89\n",
       "8    1970          95\n",
       "9    1974          97\n",
       "10   1978         102\n",
       "11   1982         146\n",
       "12   1986         132\n",
       "13   1990         115\n",
       "14   1994         141\n",
       "15   1998         171\n",
       "16   2002         161\n",
       "17   2006         147\n",
       "18   2010         145\n",
       "19   2014         171"
      ]
     },
     "execution_count": 153,
     "metadata": {},
     "output_type": "execute_result"
    }
   ],
   "source": [
    "all_goals"
   ]
  },
  {
   "cell_type": "code",
   "execution_count": 154,
   "metadata": {},
   "outputs": [
    {
     "data": {
      "text/plain": [
       "Text(0.5, 1.0, 'TOTAL GOALS PER YEAR')"
      ]
     },
     "execution_count": 154,
     "metadata": {},
     "output_type": "execute_result"
    },
    {
     "data": {
      "image/png": "[encoded data removed]",
      "text/plain": [
       "<Figure size 1440x432 with 1 Axes>"
      ]
     },
     "metadata": {
      "needs_background": "light"
     },
     "output_type": "display_data"
    }
   ],
   "source": [
    "plt.figure(figsize=(20,6))\n",
    "plt.bar(x=all_goals['Years'],height = all_goals['TotalGoals'])\n",
    "plt.xticks(rotation=45)\n",
    "plt.title('TOTAL GOALS PER YEAR')"
   ]
  },
  {
   "cell_type": "code",
   "execution_count": 155,
   "metadata": {},
   "outputs": [],
   "source": [
    "final_round=data[data['Round']=='Final']"
   ]
  },
  {
   "cell_type": "code",
   "execution_count": 156,
   "metadata": {},
   "outputs": [
    {
     "data": {
      "text/html": [
       "<div>\n",
       "<style scoped>\n",
       "    .dataframe tbody tr th:only-of-type {\n",
       "        vertical-align: middle;\n",
       "    }\n",
       "\n",
       "    .dataframe tbody tr th {\n",
       "        vertical-align: top;\n",
       "    }\n",
       "\n",
       "    .dataframe thead th {\n",
       "        text-align: right;\n",
       "    }\n",
       "</style>\n",
       "<table border=\"1\" class=\"dataframe\">\n",
       "  <thead>\n",
       "    <tr style=\"text-align: right;\">\n",
       "      <th></th>\n",
       "      <th>Year</th>\n",
       "      <th>month</th>\n",
       "      <th>day</th>\n",
       "      <th>Time</th>\n",
       "      <th>Round</th>\n",
       "      <th>HomeTeam</th>\n",
       "      <th>HomeGoals</th>\n",
       "      <th>AwayTeam</th>\n",
       "      <th>AwayGoals</th>\n",
       "      <th>totalgoals</th>\n",
       "    </tr>\n",
       "  </thead>\n",
       "  <tbody>\n",
       "    <tr>\n",
       "      <td>17</td>\n",
       "      <td>1930</td>\n",
       "      <td>July</td>\n",
       "      <td>Wednesday</td>\n",
       "      <td>14:15:00</td>\n",
       "      <td>Final</td>\n",
       "      <td>Uruguay</td>\n",
       "      <td>4</td>\n",
       "      <td>Argentina</td>\n",
       "      <td>2</td>\n",
       "      <td>6</td>\n",
       "    </tr>\n",
       "    <tr>\n",
       "      <td>34</td>\n",
       "      <td>1934</td>\n",
       "      <td>June</td>\n",
       "      <td>Sunday</td>\n",
       "      <td>17:30:00</td>\n",
       "      <td>Final</td>\n",
       "      <td>Italy</td>\n",
       "      <td>2</td>\n",
       "      <td>Czechoslovakia</td>\n",
       "      <td>1</td>\n",
       "      <td>3</td>\n",
       "    </tr>\n",
       "    <tr>\n",
       "      <td>52</td>\n",
       "      <td>1938</td>\n",
       "      <td>June</td>\n",
       "      <td>Sunday</td>\n",
       "      <td>17:00:00</td>\n",
       "      <td>Final</td>\n",
       "      <td>Italy</td>\n",
       "      <td>4</td>\n",
       "      <td>Hungary</td>\n",
       "      <td>2</td>\n",
       "      <td>6</td>\n",
       "    </tr>\n",
       "    <tr>\n",
       "      <td>100</td>\n",
       "      <td>1954</td>\n",
       "      <td>July</td>\n",
       "      <td>Sunday</td>\n",
       "      <td>17:00:00</td>\n",
       "      <td>Final</td>\n",
       "      <td>Germany FR</td>\n",
       "      <td>3</td>\n",
       "      <td>Hungary</td>\n",
       "      <td>2</td>\n",
       "      <td>5</td>\n",
       "    </tr>\n",
       "    <tr>\n",
       "      <td>135</td>\n",
       "      <td>1958</td>\n",
       "      <td>June</td>\n",
       "      <td>Sunday</td>\n",
       "      <td>15:00:00</td>\n",
       "      <td>Final</td>\n",
       "      <td>Brazil</td>\n",
       "      <td>5</td>\n",
       "      <td>Sweden</td>\n",
       "      <td>2</td>\n",
       "      <td>7</td>\n",
       "    </tr>\n",
       "  </tbody>\n",
       "</table>\n",
       "</div>"
      ],
      "text/plain": [
       "     Year month        day      Time  Round    HomeTeam  HomeGoals  \\\n",
       "17   1930  July  Wednesday  14:15:00  Final     Uruguay          4   \n",
       "34   1934  June     Sunday  17:30:00  Final       Italy          2   \n",
       "52   1938  June     Sunday  17:00:00  Final       Italy          4   \n",
       "100  1954  July     Sunday  17:00:00  Final  Germany FR          3   \n",
       "135  1958  June     Sunday  15:00:00  Final      Brazil          5   \n",
       "\n",
       "           AwayTeam  AwayGoals  totalgoals  \n",
       "17        Argentina          2           6  \n",
       "34   Czechoslovakia          1           3  \n",
       "52          Hungary          2           6  \n",
       "100         Hungary          2           5  \n",
       "135          Sweden          2           7  "
      ]
     },
     "execution_count": 156,
     "metadata": {},
     "output_type": "execute_result"
    }
   ],
   "source": [
    "final_round.head()"
   ]
  },
  {
   "cell_type": "code",
   "execution_count": 157,
   "metadata": {},
   "outputs": [
    {
     "data": {
      "text/plain": [
       "Germany FR        6\n",
       "Italy             6\n",
       "Brazil            6\n",
       "Argentina         5\n",
       "Netherlands       3\n",
       "Germany           2\n",
       "Hungary           2\n",
       "Czechoslovakia    2\n",
       "France            2\n",
       "Uruguay           1\n",
       "Sweden            1\n",
       "England           1\n",
       "Spain             1\n",
       "Name: Teams, dtype: int64"
      ]
     },
     "execution_count": 157,
     "metadata": {},
     "output_type": "execute_result"
    }
   ],
   "source": [
    "final_team=[line for line in final_round.HomeTeam] + [line for line in final_round.AwayTeam]\n",
    "final_team_df = pd.DataFrame(columns=['Teams'], data = final_team)\n",
    "final_team_df.Teams.value_counts()"
   ]
  },
  {
   "cell_type": "code",
   "execution_count": 158,
   "metadata": {},
   "outputs": [
    {
     "data": {
      "image/png": "[encoded data removed]",
      "text/plain": [
       "<Figure size 1440x432 with 1 Axes>"
      ]
     },
     "metadata": {
      "needs_background": "light"
     },
     "output_type": "display_data"
    }
   ],
   "source": [
    "plt.figure(figsize=(20,6))\n",
    "final_team_df['Teams'].value_counts().plot(kind='bar')\n",
    "plt.xlabel(\"Teams\")\n",
    "plt.ylabel(\"Frequency Distribution\")\n",
    "plt.xticks(rotation = 45)\n",
    "plt.title('NUMBER OF TIMES TEAM REACHED FINAL')\n",
    "plt.show()"
   ]
  },
  {
   "cell_type": "code",
   "execution_count": 159,
   "metadata": {},
   "outputs": [
    {
     "data": {
      "text/html": [
       "<div>\n",
       "<style scoped>\n",
       "    .dataframe tbody tr th:only-of-type {\n",
       "        vertical-align: middle;\n",
       "    }\n",
       "\n",
       "    .dataframe tbody tr th {\n",
       "        vertical-align: top;\n",
       "    }\n",
       "\n",
       "    .dataframe thead th {\n",
       "        text-align: right;\n",
       "    }\n",
       "</style>\n",
       "<table border=\"1\" class=\"dataframe\">\n",
       "  <thead>\n",
       "    <tr style=\"text-align: right;\">\n",
       "      <th></th>\n",
       "      <th>Year</th>\n",
       "      <th>month</th>\n",
       "      <th>day</th>\n",
       "      <th>Time</th>\n",
       "      <th>Round</th>\n",
       "      <th>HomeTeam</th>\n",
       "      <th>HomeGoals</th>\n",
       "      <th>AwayTeam</th>\n",
       "      <th>AwayGoals</th>\n",
       "      <th>totalgoals</th>\n",
       "    </tr>\n",
       "  </thead>\n",
       "  <tbody>\n",
       "    <tr>\n",
       "      <td>15</td>\n",
       "      <td>1930</td>\n",
       "      <td>July</td>\n",
       "      <td>Saturday</td>\n",
       "      <td>14:45:00</td>\n",
       "      <td>Semi-finals</td>\n",
       "      <td>Argentina</td>\n",
       "      <td>6</td>\n",
       "      <td>USA</td>\n",
       "      <td>1</td>\n",
       "      <td>7</td>\n",
       "    </tr>\n",
       "    <tr>\n",
       "      <td>16</td>\n",
       "      <td>1930</td>\n",
       "      <td>July</td>\n",
       "      <td>Sunday</td>\n",
       "      <td>14:45:00</td>\n",
       "      <td>Semi-finals</td>\n",
       "      <td>Uruguay</td>\n",
       "      <td>6</td>\n",
       "      <td>Yugoslavia</td>\n",
       "      <td>1</td>\n",
       "      <td>7</td>\n",
       "    </tr>\n",
       "    <tr>\n",
       "      <td>31</td>\n",
       "      <td>1934</td>\n",
       "      <td>June</td>\n",
       "      <td>Sunday</td>\n",
       "      <td>16:30:00</td>\n",
       "      <td>Semi-finals</td>\n",
       "      <td>Italy</td>\n",
       "      <td>1</td>\n",
       "      <td>Austria</td>\n",
       "      <td>0</td>\n",
       "      <td>1</td>\n",
       "    </tr>\n",
       "    <tr>\n",
       "      <td>32</td>\n",
       "      <td>1934</td>\n",
       "      <td>June</td>\n",
       "      <td>Sunday</td>\n",
       "      <td>16:30:00</td>\n",
       "      <td>Semi-finals</td>\n",
       "      <td>Czechoslovakia</td>\n",
       "      <td>3</td>\n",
       "      <td>Germany</td>\n",
       "      <td>1</td>\n",
       "      <td>4</td>\n",
       "    </tr>\n",
       "    <tr>\n",
       "      <td>49</td>\n",
       "      <td>1938</td>\n",
       "      <td>June</td>\n",
       "      <td>Thursday</td>\n",
       "      <td>18:00:00</td>\n",
       "      <td>Semi-finals</td>\n",
       "      <td>Hungary</td>\n",
       "      <td>5</td>\n",
       "      <td>Sweden</td>\n",
       "      <td>1</td>\n",
       "      <td>6</td>\n",
       "    </tr>\n",
       "  </tbody>\n",
       "</table>\n",
       "</div>"
      ],
      "text/plain": [
       "    Year month       day      Time        Round        HomeTeam  HomeGoals  \\\n",
       "15  1930  July  Saturday  14:45:00  Semi-finals       Argentina          6   \n",
       "16  1930  July    Sunday  14:45:00  Semi-finals         Uruguay          6   \n",
       "31  1934  June    Sunday  16:30:00  Semi-finals           Italy          1   \n",
       "32  1934  June    Sunday  16:30:00  Semi-finals  Czechoslovakia          3   \n",
       "49  1938  June  Thursday  18:00:00  Semi-finals         Hungary          5   \n",
       "\n",
       "      AwayTeam  AwayGoals  totalgoals  \n",
       "15         USA          1           7  \n",
       "16  Yugoslavia          1           7  \n",
       "31     Austria          0           1  \n",
       "32     Germany          1           4  \n",
       "49      Sweden          1           6  "
      ]
     },
     "execution_count": 159,
     "metadata": {},
     "output_type": "execute_result"
    }
   ],
   "source": [
    "semi_finals = data[data['Round'] == 'Semi-finals']\n",
    "semi_finals.head()"
   ]
  },
  {
   "cell_type": "code",
   "execution_count": 160,
   "metadata": {},
   "outputs": [
    {
     "data": {
      "text/plain": [
       "Brazil            8\n",
       "Italy             7\n",
       "Germany FR        7\n",
       "Germany           5\n",
       "France            5\n",
       "Uruguay           4\n",
       "Argentina         4\n",
       "Sweden            3\n",
       "Netherlands       3\n",
       "Hungary           2\n",
       "Czechoslovakia    2\n",
       "England           2\n",
       "Yugoslavia        2\n",
       "Portugal          2\n",
       "Austria           2\n",
       "Poland            1\n",
       "Bulgaria          1\n",
       "Turkey            1\n",
       "Croatia           1\n",
       "Belgium           1\n",
       "Soviet Union      1\n",
       "Korea Republic    1\n",
       "USA               1\n",
       "Chile             1\n",
       "Spain             1\n",
       "Name: SemifinalTeams, dtype: int64"
      ]
     },
     "execution_count": 160,
     "metadata": {},
     "output_type": "execute_result"
    }
   ],
   "source": [
    "semi_finals_team=[line for line in semi_finals.HomeTeam] + [line for line in semi_finals.AwayTeam]\n",
    "semi_finals_team_df = pd.DataFrame(columns=['SemifinalTeams'], data = semi_finals_team)\n",
    "semi_finals_team_df.SemifinalTeams.value_counts()"
   ]
  },
  {
   "cell_type": "code",
   "execution_count": 161,
   "metadata": {},
   "outputs": [
    {
     "data": {
      "image/png": "[encoded data removed]",
      "text/plain": [
       "<Figure size 1080x432 with 1 Axes>"
      ]
     },
     "metadata": {
      "needs_background": "light"
     },
     "output_type": "display_data"
    }
   ],
   "source": [
    "plt.figure(figsize=(15,6))\n",
    "semi_finals_team_df['SemifinalTeams'].value_counts().plot(kind='bar')\n",
    "plt.xlabel(\"SemifinalTeams\")\n",
    "plt.ylabel(\"Frequency Distribution\")\n",
    "plt.xticks(rotation = 45)\n",
    "plt.title('NUMBER OF TIMES TEAM REACHED SEMI-FINAL')\n",
    "plt.show()"
   ]
  },
  {
   "cell_type": "code",
   "execution_count": 162,
   "metadata": {},
   "outputs": [
    {
     "data": {
      "text/plain": [
       "'The totals goals scored in a semi final from 1930 to 2014 was 123.'"
      ]
     },
     "execution_count": 162,
     "metadata": {},
     "output_type": "execute_result"
    }
   ],
   "source": [
    "semi_final_goals=semi_finals.totalgoals.sum()\n",
    "f\"The totals goals scored in a semi final from 1930 to 2014 was {semi_final_goals}.\""
   ]
  },
  {
   "cell_type": "code",
   "execution_count": 163,
   "metadata": {},
   "outputs": [
    {
     "data": {
      "text/plain": [
       "'An average of 3.62 was score in every match from 1930 - 2014.'"
      ]
     },
     "execution_count": 163,
     "metadata": {},
     "output_type": "execute_result"
    }
   ],
   "source": [
    "average_semi_final_goals=semi_finals.totalgoals.mean()\n",
    "f\"An average of {average_semi_final_goals:.2f} was score in every match from 1930 - 2014.\""
   ]
  },
  {
   "cell_type": "code",
   "execution_count": 164,
   "metadata": {},
   "outputs": [
    {
     "data": {
      "text/html": [
       "<div>\n",
       "<style scoped>\n",
       "    .dataframe tbody tr th:only-of-type {\n",
       "        vertical-align: middle;\n",
       "    }\n",
       "\n",
       "    .dataframe tbody tr th {\n",
       "        vertical-align: top;\n",
       "    }\n",
       "\n",
       "    .dataframe thead th {\n",
       "        text-align: right;\n",
       "    }\n",
       "</style>\n",
       "<table border=\"1\" class=\"dataframe\">\n",
       "  <thead>\n",
       "    <tr style=\"text-align: right;\">\n",
       "      <th></th>\n",
       "      <th>Year</th>\n",
       "      <th>month</th>\n",
       "      <th>day</th>\n",
       "      <th>Time</th>\n",
       "      <th>Round</th>\n",
       "      <th>HomeTeam</th>\n",
       "      <th>HomeGoals</th>\n",
       "      <th>AwayTeam</th>\n",
       "      <th>AwayGoals</th>\n",
       "      <th>totalgoals</th>\n",
       "    </tr>\n",
       "  </thead>\n",
       "  <tbody>\n",
       "    <tr>\n",
       "      <td>26</td>\n",
       "      <td>1934</td>\n",
       "      <td>May</td>\n",
       "      <td>Thursday</td>\n",
       "      <td>16:30:00</td>\n",
       "      <td>Quarter-finals</td>\n",
       "      <td>Czechoslovakia</td>\n",
       "      <td>3</td>\n",
       "      <td>Switzerland</td>\n",
       "      <td>2</td>\n",
       "      <td>5</td>\n",
       "    </tr>\n",
       "    <tr>\n",
       "      <td>27</td>\n",
       "      <td>1934</td>\n",
       "      <td>May</td>\n",
       "      <td>Thursday</td>\n",
       "      <td>16:30:00</td>\n",
       "      <td>Quarter-finals</td>\n",
       "      <td>Germany</td>\n",
       "      <td>2</td>\n",
       "      <td>Sweden</td>\n",
       "      <td>1</td>\n",
       "      <td>3</td>\n",
       "    </tr>\n",
       "    <tr>\n",
       "      <td>28</td>\n",
       "      <td>1934</td>\n",
       "      <td>May</td>\n",
       "      <td>Thursday</td>\n",
       "      <td>16:30:00</td>\n",
       "      <td>Quarter-finals</td>\n",
       "      <td>Italy</td>\n",
       "      <td>1</td>\n",
       "      <td>Spain</td>\n",
       "      <td>1</td>\n",
       "      <td>2</td>\n",
       "    </tr>\n",
       "    <tr>\n",
       "      <td>29</td>\n",
       "      <td>1934</td>\n",
       "      <td>May</td>\n",
       "      <td>Thursday</td>\n",
       "      <td>16:30:00</td>\n",
       "      <td>Quarter-finals</td>\n",
       "      <td>Austria</td>\n",
       "      <td>2</td>\n",
       "      <td>Hungary</td>\n",
       "      <td>1</td>\n",
       "      <td>3</td>\n",
       "    </tr>\n",
       "    <tr>\n",
       "      <td>30</td>\n",
       "      <td>1934</td>\n",
       "      <td>June</td>\n",
       "      <td>Friday</td>\n",
       "      <td>16:30:00</td>\n",
       "      <td>Quarter-finals</td>\n",
       "      <td>Italy</td>\n",
       "      <td>1</td>\n",
       "      <td>Spain</td>\n",
       "      <td>0</td>\n",
       "      <td>1</td>\n",
       "    </tr>\n",
       "  </tbody>\n",
       "</table>\n",
       "</div>"
      ],
      "text/plain": [
       "    Year month       day      Time           Round        HomeTeam  HomeGoals  \\\n",
       "26  1934   May  Thursday  16:30:00  Quarter-finals  Czechoslovakia          3   \n",
       "27  1934   May  Thursday  16:30:00  Quarter-finals         Germany          2   \n",
       "28  1934   May  Thursday  16:30:00  Quarter-finals           Italy          1   \n",
       "29  1934   May  Thursday  16:30:00  Quarter-finals         Austria          2   \n",
       "30  1934  June    Friday  16:30:00  Quarter-finals           Italy          1   \n",
       "\n",
       "       AwayTeam  AwayGoals  totalgoals  \n",
       "26  Switzerland          2           5  \n",
       "27       Sweden          1           3  \n",
       "28        Spain          1           2  \n",
       "29      Hungary          1           3  \n",
       "30        Spain          0           1  "
      ]
     },
     "execution_count": 164,
     "metadata": {},
     "output_type": "execute_result"
    }
   ],
   "source": [
    "quarter_finals = data[data['Round'] == 'Quarter-finals']\n",
    "quarter_finals.head()"
   ]
  },
  {
   "cell_type": "code",
   "execution_count": 165,
   "metadata": {},
   "outputs": [
    {
     "data": {
      "text/plain": [
       "'The total goals scored in a quarter final from 1930 - 2014 was 175'"
      ]
     },
     "execution_count": 165,
     "metadata": {},
     "output_type": "execute_result"
    }
   ],
   "source": [
    "quarter_finals_goal=quarter_finals.totalgoals.sum()\n",
    "f\"The total goals scored in a quarter final from 1930 - 2014 was {quarter_finals_goal}\""
   ]
  },
  {
   "cell_type": "code",
   "execution_count": 166,
   "metadata": {},
   "outputs": [
    {
     "data": {
      "text/plain": [
       "'An average goal of 2.82 was score in every match from 1930 - 2014.'"
      ]
     },
     "execution_count": 166,
     "metadata": {},
     "output_type": "execute_result"
    }
   ],
   "source": [
    "quarter_finals_goal=quarter_finals.totalgoals.mean()\n",
    "f\"An average goal of {quarter_finals_goal:.2f} was score in every match from 1930 - 2014.\""
   ]
  },
  {
   "cell_type": "code",
   "execution_count": 176,
   "metadata": {},
   "outputs": [
    {
     "data": {
      "text/plain": [
       "'The total goals scored in a final from 1930 - 2014 was 68'"
      ]
     },
     "execution_count": 176,
     "metadata": {},
     "output_type": "execute_result"
    }
   ],
   "source": [
    "finals_goals=final_round.totalgoals.sum()\n",
    "f\"The total goals scored in a final from 1930 - 2014 was {finals_goals}\""
   ]
  },
  {
   "cell_type": "code",
   "execution_count": 177,
   "metadata": {},
   "outputs": [
    {
     "data": {
      "text/plain": [
       "'An average goal of 3.58 was score in every match from 1930 - 2014.'"
      ]
     },
     "execution_count": 177,
     "metadata": {},
     "output_type": "execute_result"
    }
   ],
   "source": [
    "finals_goals=final_round.totalgoals.mean()\n",
    "f\"An average goal of {finals_goals:.2f} was score in every match from 1930 - 2014.\""
   ]
  },
  {
   "cell_type": "code",
   "execution_count": 181,
   "metadata": {},
   "outputs": [],
   "source": [
    "final_less=data[data['Round']!='Finals']"
   ]
  },
  {
   "cell_type": "code",
   "execution_count": 182,
   "metadata": {},
   "outputs": [],
   "source": [
    "semi_less=final_less[final_less['Round']!='Semi-finals']"
   ]
  },
  {
   "cell_type": "code",
   "execution_count": 183,
   "metadata": {},
   "outputs": [],
   "source": [
    "quarter_less=semi_less[semi_less['Round']!='Quarter-finals']"
   ]
  },
  {
   "cell_type": "code",
   "execution_count": 186,
   "metadata": {},
   "outputs": [],
   "source": [
    "game_less_quarter=quarter_less.shape[0]"
   ]
  },
  {
   "cell_type": "code",
   "execution_count": 187,
   "metadata": {},
   "outputs": [
    {
     "data": {
      "text/plain": [
       "'The number of total game played aside quarter final and above was 740'"
      ]
     },
     "execution_count": 187,
     "metadata": {},
     "output_type": "execute_result"
    }
   ],
   "source": [
    "f\"The number of total game played aside quarter final and above was {game_less_quarter}\""
   ]
  }
 ],
 "metadata": {
  "kernelspec": {
   "display_name": "Python 3",
   "language": "python",
   "name": "python3"
  },
  "language_info": {
   "codemirror_mode": {
    "name": "ipython",
    "version": 3
   },
   "file_extension": ".py",
   "mimetype": "text/x-python",
   "name": "python",
   "nbconvert_exporter": "python",
   "pygments_lexer": "ipython3",
   "version": "3.7.4"
  },
  "widgets": {
   "application/vnd.jupyter.widget-state+json": {
    "state": {},
    "version_major": 2,
    "version_minor": 0
   }
  }
 },
 "nbformat": 4,
 "nbformat_minor": 2
}
